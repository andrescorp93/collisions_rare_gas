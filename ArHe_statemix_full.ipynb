{
 "cells": [
  {
   "cell_type": "code",
   "execution_count": 24,
   "metadata": {},
   "outputs": [
    {
     "name": "stderr",
     "output_type": "stream",
     "text": [
      "C:\\ProgramData\\Anaconda3\\lib\\site-packages\\ipykernel_launcher.py:53: ComplexWarning: Casting complex values to real discards the imaginary part\n"
     ]
    }
   ],
   "source": [
    "from sympy import *\n",
    "import numpy as np\n",
    "import matplotlib.pyplot as plt\n",
    "import re\n",
    "en_file = open(\"states.out\", \"r\")\n",
    "m = [line.strip() for line in en_file.readlines()]\n",
    "en_file.close()\n",
    "parsed = []\n",
    "matrices = []\n",
    "for j in range(len(m)):\n",
    "    if re.search(\"eigenvalues\",m[j])!=None:\n",
    "        parsed.append(m[j:j+1062])\n",
    "for mas in parsed:\n",
    "    preout = []\n",
    "    out = []\n",
    "    for s in mas:\n",
    "        if re.search('\\|*\\>', s)!=None:\n",
    "            t1=s.split()[6:]\n",
    "            t2=m[m.index(s) + 1].split()\n",
    "            t = []\n",
    "            for i in range(len(t2)):\n",
    "                t.append(t1[i]+\"+\"+t2[i]+\"j\")\n",
    "                t[i] = t[i].replace('+-','-')\n",
    "            t = [complex(el) for el in t]\n",
    "            preout.append(t)\n",
    "    for i in range(49):\n",
    "        t1 = np.array(preout[i])\n",
    "        t2 = np.array(preout[i+49])\n",
    "        t3 = np.array(preout[i+98])\n",
    "        t4 = np.array(preout[i+147])\n",
    "        t5 = np.array(preout[i+196])\n",
    "        t6 = np.array(preout[i+245])\n",
    "        t7 = np.array(preout[i+294])\n",
    "        out.append(np.hstack((t1,t2,t3,t4,t5,t6,t7)))\n",
    "    out = np.array(out)\n",
    "    matrices.append(out)\n",
    "#print(out)\n",
    "#np.set_printoptions(suppress=True)\n",
    "#print(np.abs(out.dot(out.conjugate().transpose())))\n",
    "matrices = np.array(matrices)\n",
    "#v = matrices[0].dot(matrices[0].conjugate().transpose())\n",
    "R = np.array([100.0, 28.0, 11.0, 9.6, 8.79, 8.22, 7.77, 7.31, 7.1, 6.83, 6.6, 6.39, 6.2, 6.02, 5.86, 5.75, 5.58, 5.45, 5.33, 5.21, 5.1, 5.0, 4.9, 4.81, 4.72, 4.64, 4.55, 4.48, 4.4, 4.33, 4.26, 4.19, 4.12, 4.06, 4.0, 3.94, 3.88, 3.82, 3.77, 3.72, 3.66, 3.61, 3.56, 3.52, 3.47, 3.42, 3.38, 3.33, 3.29, 3.25, 3.21, 3.17, 3.13, 3.09, 3.05, 3.01, 2.98, 2.94, 2.91, 2.87, 2.84, 2.8, 2.77, 2.74, 2.71, 2.67, 2.64, 2.61, 2.58, 2.55, 2.52, 2.49, 2.47, 2.44, 2.41, 2.38, 2.36, 2.33, 2.3, 2.28, 2.25, 2.22, 2.2, 2.18, 2.15, 2.13, 2.11, 2.09, 2.08, 2.07, 2.06, 2.05, 2.04, 2.03, 2.02, 2.01, 2., 1.99, 1.98, 1.97])\n",
    "#print(len(matrices[0]))\n",
    "t = np.zeros((len(R),len(matrices[0]),len(matrices[0])))\n",
    "#print(len(R)==len(matrices))\n",
    "#for j in range(len(t)):\n",
    "#    t[j] = np.real(matrices[j][0][1])\n",
    "#plt.ylim(0,1.1)\n",
    "#projections = {}\n",
    "open(\"proj_states_tab.txt\", \"w\").close()\n",
    "out_file = open(\"proj_states_tab.txt\", \"w\")\n",
    "for i in range(len(matrices)):\n",
    "    t[i] = matrices[0].conjugate().transpose().dot(matrices[i])\n",
    "    out_file.write(str(R[i])+\"\\n\")\n",
    "    for j in range(len(matrices[i])):\n",
    "        a = \"\"\n",
    "        for k in range(len(matrices[i,j])):\n",
    "            a += str(t[i,j,k]) + \"\\t\"\n",
    "        out_file.write(a +\"\\n\")\n",
    "    out_file.write(\"\\n\")\n",
    "out_file.close()\n",
    "#plt.plot(R[10:],t[10:,1,1])\n",
    "#plt.legend(labels)\n",
    "#plt.show()\n",
    "\n",
    "#string = \"1    2  |1 1>+          0.00000000  0.70710963 -0.60608051 -0.36422849  0.00000000  0.00000000 -0.00000000  0.00000000\"\n",
    "#print(re.match('\\|*|>', string))\n",
    "#r = np.array([])\n",
    "#e_high = np.array([])\n",
    "#e_low = np.array([])\n",
    "#print(m)"
   ]
  },
  {
   "cell_type": "code",
   "execution_count": null,
   "metadata": {
    "collapsed": true
   },
   "outputs": [],
   "source": []
  }
 ],
 "metadata": {
  "kernelspec": {
   "display_name": "Python 3",
   "language": "python",
   "name": "python3"
  },
  "language_info": {
   "codemirror_mode": {
    "name": "ipython",
    "version": 3
   },
   "file_extension": ".py",
   "mimetype": "text/x-python",
   "name": "python",
   "nbconvert_exporter": "python",
   "pygments_lexer": "ipython3",
   "version": "3.6.1"
  }
 },
 "nbformat": 4,
 "nbformat_minor": 2
}
